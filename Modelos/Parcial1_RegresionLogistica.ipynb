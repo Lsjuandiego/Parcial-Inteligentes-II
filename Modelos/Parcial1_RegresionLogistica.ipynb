{
  "nbformat": 4,
  "nbformat_minor": 0,
  "metadata": {
    "colab": {
      "provenance": []
    },
    "kernelspec": {
      "name": "python3",
      "display_name": "Python 3"
    }
  },
  "cells": [
    {
      "cell_type": "code",
      "metadata": {
        "id": "GD4n3H8XLpe9"
      },
      "source": [
        "import numpy as np\n",
        "#importacion pandas\n",
        "import pandas as pd\n",
        "from sklearn import datasets\n",
        "#Importacion de módulo para dividir el dataset\n",
        "from sklearn.model_selection import train_test_split\n",
        "#Normalización de los datos\n",
        "from sklearn.preprocessing import MinMaxScaler, RobustScaler\n",
        "#Importación de la regresión logistica\n",
        "from sklearn.linear_model import LogisticRegression\n",
        "#Importación de matriz de confusión\n",
        "from sklearn.metrics import accuracy_score, confusion_matrix, classification_report,roc_auc_score, f1_score,precision_score,recall_score\n",
        "#Importación grafica de matriz de confusión\n",
        "import seaborn as sns\n",
        "#nuevas importaciones\n",
        "from sklearn.metrics import precision_recall_fscore_support\n",
        "from sklearn.metrics import classification_report"
      ],
      "execution_count": 193,
      "outputs": []
    },
    {
      "cell_type": "markdown",
      "metadata": {
        "id": "n3irvGJbMAog"
      },
      "source": [
        "Cargar el dataset"
      ]
    },
    {
      "cell_type": "code",
      "metadata": {
        "colab": {
          "base_uri": "https://localhost:8080/"
        },
        "id": "vbrBARF3MHXX",
        "outputId": "67de13e6-7133-4142-d323-1442945a8ffd"
      },
      "source": [
        "dataset=pd.read_csv('/HCV-Egy-Data.csv')\n",
        "dataset.info() # información"
      ],
      "execution_count": 194,
      "outputs": [
        {
          "output_type": "stream",
          "name": "stdout",
          "text": [
            "<class 'pandas.core.frame.DataFrame'>\n",
            "RangeIndex: 1385 entries, 0 to 1384\n",
            "Data columns (total 29 columns):\n",
            " #   Column                            Non-Null Count  Dtype  \n",
            "---  ------                            --------------  -----  \n",
            " 0   Age                               1385 non-null   int64  \n",
            " 1   Gender                            1385 non-null   int64  \n",
            " 2   BMI                               1385 non-null   int64  \n",
            " 3   Fever                             1385 non-null   int64  \n",
            " 4   Nausea/Vomting                    1385 non-null   int64  \n",
            " 5   Headache                          1385 non-null   int64  \n",
            " 6   Diarrhea                          1385 non-null   int64  \n",
            " 7   Fatigue & generalized bone ache   1385 non-null   int64  \n",
            " 8   Jaundice                          1385 non-null   int64  \n",
            " 9   Epigastric pain                   1385 non-null   int64  \n",
            " 10  WBC                               1385 non-null   int64  \n",
            " 11  RBC                               1385 non-null   float64\n",
            " 12  HGB                               1385 non-null   int64  \n",
            " 13  Plat                              1385 non-null   float64\n",
            " 14  AST 1                             1385 non-null   int64  \n",
            " 15  ALT 1                             1385 non-null   int64  \n",
            " 16  ALT4                              1385 non-null   float64\n",
            " 17  ALT 12                            1385 non-null   int64  \n",
            " 18  ALT 24                            1385 non-null   int64  \n",
            " 19  ALT 36                            1385 non-null   int64  \n",
            " 20  ALT 48                            1385 non-null   int64  \n",
            " 21  ALT after 24 w                    1385 non-null   int64  \n",
            " 22  RNA Base                          1385 non-null   int64  \n",
            " 23  RNA 4                             1385 non-null   int64  \n",
            " 24  RNA 12                            1385 non-null   int64  \n",
            " 25  RNA EOT                           1385 non-null   int64  \n",
            " 26  RNA EF                            1385 non-null   int64  \n",
            " 27  Baseline histological Grading     1385 non-null   int64  \n",
            " 28  Baselinehistological staging      1385 non-null   int64  \n",
            "dtypes: float64(3), int64(26)\n",
            "memory usage: 313.9 KB\n"
          ]
        }
      ]
    },
    {
      "cell_type": "markdown",
      "metadata": {
        "id": "NrRQ7M7VNL7o"
      },
      "source": [
        "Cargar los parámetros de entrada"
      ]
    },
    {
      "cell_type": "code",
      "metadata": {
        "id": "5lKdYjeSNO-4"
      },
      "source": [
        "# Separar el dataset en características (X) y etiquetas (y) para predecir el estado de fibrosis hepática\n",
        "X = dataset.drop('Baselinehistological staging', axis=1)\n",
        "y = dataset['Baselinehistological staging']\n"
      ],
      "execution_count": 195,
      "outputs": []
    },
    {
      "cell_type": "markdown",
      "metadata": {
        "id": "a58l2-owN46h"
      },
      "source": [
        "Partir el dataset para entrenamiento y pruebas (80 % entrenamiento\n",
        "\n",
        "---\n",
        "\n",
        "y 20%  prueba)"
      ]
    },
    {
      "cell_type": "code",
      "metadata": {
        "colab": {
          "base_uri": "https://localhost:8080/"
        },
        "id": "96e3PnGGOgZ9",
        "outputId": "0ded8946-6c1b-4df8-f218-0385bd5624d2"
      },
      "source": [
        "XTrain,XTest,yTrain,yTest=train_test_split(X,y,test_size=0.2, random_state=42)\n",
        "print(\"XTRain=\",XTrain.shape)\n",
        "print(\"XTest=\",XTest.shape)"
      ],
      "execution_count": 196,
      "outputs": [
        {
          "output_type": "stream",
          "name": "stdout",
          "text": [
            "XTRain= (1108, 28)\n",
            "XTest= (277, 28)\n"
          ]
        }
      ]
    },
    {
      "cell_type": "markdown",
      "source": [
        "Normalización con Robust Scaler"
      ],
      "metadata": {
        "id": "Wf1q92Osm1Z2"
      }
    },
    {
      "cell_type": "code",
      "metadata": {
        "id": "pfAJLmGtQr1C",
        "colab": {
          "base_uri": "https://localhost:8080/"
        },
        "outputId": "bc4d19c5-17d7-423f-9e22-22b79b7223b3"
      },
      "source": [
        "# Crear una instancia del escalador RobustScaler\n",
        "escalar = RobustScaler()\n",
        "\n",
        "# Ajustar y transformar en el conjunto de entrenamiento\n",
        "XTrain = escalar.fit_transform(XTrain)\n",
        "\n",
        "# Transformar en el conjunto de prueba\n",
        "XTest = escalar.transform(XTest)\n",
        "\n",
        "print(XTrain)\n",
        "print(XTest)"
      ],
      "execution_count": 197,
      "outputs": [
        {
          "output_type": "stream",
          "name": "stdout",
          "text": [
            "[[-0.8         1.          0.85714286 ...  0.25388343 -0.3263119\n",
            "   0.57142857]\n",
            " [ 0.66666667  1.         -0.71428571 ...  0.06170276  0.03273763\n",
            "  -0.71428571]\n",
            " [ 0.53333333  0.          0.14285714 ...  0.2511809   0.49603644\n",
            "  -0.71428571]\n",
            " ...\n",
            " [-0.33333333  0.         -0.14285714 ... -0.49088769 -0.44989066\n",
            "  -0.14285714]\n",
            " [ 0.33333333  1.         -0.14285714 ... -0.49088769 -0.44989066\n",
            "   0.57142857]\n",
            " [ 0.26666667  0.          0.85714286 ...  0.11835521  0.50896482\n",
            "  -0.57142857]]\n",
            "[[ 0.33333333  0.         -0.85714286 ... -0.49088769 -0.44989066\n",
            "   0.28571429]\n",
            " [ 0.26666667  0.          0.14285714 ... -0.49088769 -0.44989066\n",
            "  -0.71428571]\n",
            " [-0.53333333  1.          0.         ...  0.85656526 -0.3999588\n",
            "  -0.28571429]\n",
            " ...\n",
            " [-0.26666667  0.         -0.71428571 ... -0.49088769 -0.44989066\n",
            "   0.71428571]\n",
            " [-0.06666667  0.          0.42857143 ... -0.49088769 -0.44989066\n",
            "  -1.        ]\n",
            " [-0.4         0.          0.42857143 ...  0.34242873  0.53965629\n",
            "   0.71428571]]\n"
          ]
        }
      ]
    },
    {
      "cell_type": "markdown",
      "metadata": {
        "id": "Yb6Wlc4jSvDi"
      },
      "source": [
        "Implementación de la regresión logística"
      ]
    },
    {
      "cell_type": "code",
      "metadata": {
        "colab": {
          "base_uri": "https://localhost:8080/",
          "height": 74
        },
        "id": "TU2jv5HyTFbA",
        "outputId": "04fba92e-2114-4fc8-8f06-68e31f75e537"
      },
      "source": [
        "modelo = LogisticRegression(multi_class='multinomial', solver='lbfgs')\n",
        "modelo.fit(XTrain,yTrain)\n",
        "\n"
      ],
      "execution_count": 198,
      "outputs": [
        {
          "output_type": "execute_result",
          "data": {
            "text/plain": [
              "LogisticRegression(multi_class='multinomial')"
            ],
            "text/html": [
              "<style>#sk-container-id-11 {color: black;background-color: white;}#sk-container-id-11 pre{padding: 0;}#sk-container-id-11 div.sk-toggleable {background-color: white;}#sk-container-id-11 label.sk-toggleable__label {cursor: pointer;display: block;width: 100%;margin-bottom: 0;padding: 0.3em;box-sizing: border-box;text-align: center;}#sk-container-id-11 label.sk-toggleable__label-arrow:before {content: \"▸\";float: left;margin-right: 0.25em;color: #696969;}#sk-container-id-11 label.sk-toggleable__label-arrow:hover:before {color: black;}#sk-container-id-11 div.sk-estimator:hover label.sk-toggleable__label-arrow:before {color: black;}#sk-container-id-11 div.sk-toggleable__content {max-height: 0;max-width: 0;overflow: hidden;text-align: left;background-color: #f0f8ff;}#sk-container-id-11 div.sk-toggleable__content pre {margin: 0.2em;color: black;border-radius: 0.25em;background-color: #f0f8ff;}#sk-container-id-11 input.sk-toggleable__control:checked~div.sk-toggleable__content {max-height: 200px;max-width: 100%;overflow: auto;}#sk-container-id-11 input.sk-toggleable__control:checked~label.sk-toggleable__label-arrow:before {content: \"▾\";}#sk-container-id-11 div.sk-estimator input.sk-toggleable__control:checked~label.sk-toggleable__label {background-color: #d4ebff;}#sk-container-id-11 div.sk-label input.sk-toggleable__control:checked~label.sk-toggleable__label {background-color: #d4ebff;}#sk-container-id-11 input.sk-hidden--visually {border: 0;clip: rect(1px 1px 1px 1px);clip: rect(1px, 1px, 1px, 1px);height: 1px;margin: -1px;overflow: hidden;padding: 0;position: absolute;width: 1px;}#sk-container-id-11 div.sk-estimator {font-family: monospace;background-color: #f0f8ff;border: 1px dotted black;border-radius: 0.25em;box-sizing: border-box;margin-bottom: 0.5em;}#sk-container-id-11 div.sk-estimator:hover {background-color: #d4ebff;}#sk-container-id-11 div.sk-parallel-item::after {content: \"\";width: 100%;border-bottom: 1px solid gray;flex-grow: 1;}#sk-container-id-11 div.sk-label:hover label.sk-toggleable__label {background-color: #d4ebff;}#sk-container-id-11 div.sk-serial::before {content: \"\";position: absolute;border-left: 1px solid gray;box-sizing: border-box;top: 0;bottom: 0;left: 50%;z-index: 0;}#sk-container-id-11 div.sk-serial {display: flex;flex-direction: column;align-items: center;background-color: white;padding-right: 0.2em;padding-left: 0.2em;position: relative;}#sk-container-id-11 div.sk-item {position: relative;z-index: 1;}#sk-container-id-11 div.sk-parallel {display: flex;align-items: stretch;justify-content: center;background-color: white;position: relative;}#sk-container-id-11 div.sk-item::before, #sk-container-id-11 div.sk-parallel-item::before {content: \"\";position: absolute;border-left: 1px solid gray;box-sizing: border-box;top: 0;bottom: 0;left: 50%;z-index: -1;}#sk-container-id-11 div.sk-parallel-item {display: flex;flex-direction: column;z-index: 1;position: relative;background-color: white;}#sk-container-id-11 div.sk-parallel-item:first-child::after {align-self: flex-end;width: 50%;}#sk-container-id-11 div.sk-parallel-item:last-child::after {align-self: flex-start;width: 50%;}#sk-container-id-11 div.sk-parallel-item:only-child::after {width: 0;}#sk-container-id-11 div.sk-dashed-wrapped {border: 1px dashed gray;margin: 0 0.4em 0.5em 0.4em;box-sizing: border-box;padding-bottom: 0.4em;background-color: white;}#sk-container-id-11 div.sk-label label {font-family: monospace;font-weight: bold;display: inline-block;line-height: 1.2em;}#sk-container-id-11 div.sk-label-container {text-align: center;}#sk-container-id-11 div.sk-container {/* jupyter's `normalize.less` sets `[hidden] { display: none; }` but bootstrap.min.css set `[hidden] { display: none !important; }` so we also need the `!important` here to be able to override the default hidden behavior on the sphinx rendered scikit-learn.org. See: https://github.com/scikit-learn/scikit-learn/issues/21755 */display: inline-block !important;position: relative;}#sk-container-id-11 div.sk-text-repr-fallback {display: none;}</style><div id=\"sk-container-id-11\" class=\"sk-top-container\"><div class=\"sk-text-repr-fallback\"><pre>LogisticRegression(multi_class=&#x27;multinomial&#x27;)</pre><b>In a Jupyter environment, please rerun this cell to show the HTML representation or trust the notebook. <br />On GitHub, the HTML representation is unable to render, please try loading this page with nbviewer.org.</b></div><div class=\"sk-container\" hidden><div class=\"sk-item\"><div class=\"sk-estimator sk-toggleable\"><input class=\"sk-toggleable__control sk-hidden--visually\" id=\"sk-estimator-id-11\" type=\"checkbox\" checked><label for=\"sk-estimator-id-11\" class=\"sk-toggleable__label sk-toggleable__label-arrow\">LogisticRegression</label><div class=\"sk-toggleable__content\"><pre>LogisticRegression(multi_class=&#x27;multinomial&#x27;)</pre></div></div></div></div></div>"
            ]
          },
          "metadata": {},
          "execution_count": 198
        }
      ]
    },
    {
      "cell_type": "markdown",
      "metadata": {
        "id": "PwysB-gaT355"
      },
      "source": [
        "Valor de las constantes"
      ]
    },
    {
      "cell_type": "code",
      "metadata": {
        "colab": {
          "base_uri": "https://localhost:8080/"
        },
        "id": "oBkFSsgyT5ah",
        "outputId": "177c1cae-ae6e-47b7-f7be-38e66c8125e3"
      },
      "source": [
        "print(\"Intercepto =\",modelo.intercept_ )\n",
        "print(\"Coeficientes =\",modelo.coef_ )"
      ],
      "execution_count": 199,
      "outputs": [
        {
          "output_type": "stream",
          "name": "stdout",
          "text": [
            "Intercepto = [ 0.39327019 -0.0322269  -0.14635721 -0.21468607]\n",
            "Coeficientes = [[ 0.03432169  0.00587717 -0.055174    0.05418407 -0.1994913  -0.06793475\n",
            "   0.08309395 -0.1243103  -0.07586131  0.21066819 -0.01999451 -0.0010307\n",
            "   0.04463839 -0.03297537  0.05325331 -0.10857949 -0.04195316 -0.0073814\n",
            "   0.05895917  0.04782289 -0.0122074  -0.05746442  0.02100411  0.00241537\n",
            "  -0.09936258  0.0945197  -0.02329693  0.12081137]\n",
            " [ 0.12135871 -0.13260033  0.219924    0.02077614 -0.07361111  0.00879936\n",
            "   0.03282676  0.15814439  0.14100181  0.07317288 -0.02248714  0.06123164\n",
            "  -0.03464032  0.07425919  0.06034708 -0.01040132  0.02625728 -0.04346166\n",
            "   0.00221665 -0.06127454  0.08035246 -0.04915372 -0.12239505  0.03024656\n",
            "  -0.01736659  0.15967099 -0.2691995   0.07227099]\n",
            " [ 0.00659543  0.21216763 -0.0287246   0.05578888  0.19145448 -0.01498306\n",
            "  -0.04495461 -0.0652322  -0.07197648 -0.12478188 -0.05489025 -0.07754799\n",
            "  -0.0186689   0.02937344  0.03929062 -0.00892498  0.09431178  0.00483869\n",
            "  -0.0730743   0.01566162  0.02688247  0.05982032  0.01587231  0.00794762\n",
            "  -0.05701924 -0.07673375  0.27776576 -0.03163811]\n",
            " [-0.16227583 -0.08544446 -0.1360254  -0.1307491   0.08164793  0.07411846\n",
            "  -0.0709661   0.0313981   0.00683599 -0.15905919  0.0973719   0.01734705\n",
            "   0.00867083 -0.07065727 -0.15289101  0.12790578 -0.07861589  0.04600436\n",
            "   0.01189848 -0.00220997 -0.09502753  0.04679781  0.08551863 -0.04060955\n",
            "   0.17374841 -0.17745694  0.01473068 -0.16144425]]\n"
          ]
        }
      ]
    },
    {
      "cell_type": "markdown",
      "metadata": {
        "id": "HTOIXeURTvUi"
      },
      "source": [
        "Predicciones"
      ]
    },
    {
      "cell_type": "code",
      "metadata": {
        "colab": {
          "base_uri": "https://localhost:8080/"
        },
        "id": "wgk8p2BcTwvh",
        "outputId": "9db287f3-2206-47bb-92ad-9e001e83ce5e"
      },
      "source": [
        "yPredicho=modelo.predict(XTest)\n",
        "print(yPredicho)"
      ],
      "execution_count": 200,
      "outputs": [
        {
          "output_type": "stream",
          "name": "stdout",
          "text": [
            "[3 4 3 2 1 4 3 1 3 3 4 4 4 4 4 2 3 3 4 1 3 4 4 3 4 3 1 1 4 2 2 2 3 2 2 4 4\n",
            " 3 4 4 4 1 3 1 1 2 1 3 2 3 3 4 3 2 1 1 4 2 3 4 3 3 1 2 1 1 3 3 2 4 1 3 4 3\n",
            " 3 4 1 1 4 4 2 1 2 1 3 2 3 1 1 2 2 1 4 2 2 4 4 2 2 4 2 4 4 3 2 2 4 4 3 1 4\n",
            " 1 4 2 3 4 3 4 3 2 3 3 2 4 1 2 2 1 1 4 3 3 2 3 3 3 2 2 2 4 4 4 1 4 4 3 4 4\n",
            " 4 4 4 4 2 1 1 2 3 2 4 4 3 3 4 4 1 4 4 1 4 3 2 2 1 3 3 4 1 4 3 1 4 3 4 1 2\n",
            " 2 1 1 2 4 2 3 4 2 3 3 2 1 2 4 4 2 4 2 2 4 2 2 4 3 4 4 4 2 3 4 2 1 4 2 4 4\n",
            " 3 2 4 4 4 3 2 4 1 4 3 1 3 3 3 4 4 1 4 1 4 3 3 4 4 3 4 3 4 2 1 2 3 1 2 4 4\n",
            " 3 2 4 4 4 3 3 4 2 2 2 3 3 1 1 1 2 3]\n"
          ]
        }
      ]
    },
    {
      "cell_type": "markdown",
      "metadata": {
        "id": "5rHQeBzQU-bq"
      },
      "source": [
        "Análisis del modelo mediante la matriz de confusión"
      ]
    },
    {
      "cell_type": "code",
      "metadata": {
        "colab": {
          "base_uri": "https://localhost:8080/",
          "height": 517
        },
        "id": "TqosY5b9VCl6",
        "outputId": "cb59fd6c-4943-4bda-927c-8f3b2a9c3d73"
      },
      "source": [
        "matriz=confusion_matrix(yTest,yPredicho)\n",
        "print(matriz)\n",
        "sns.heatmap(matriz,annot=True,cmap=\"Blues\")"
      ],
      "execution_count": 201,
      "outputs": [
        {
          "output_type": "stream",
          "name": "stdout",
          "text": [
            "[[10 14 17 25]\n",
            " [ 5 27 18 23]\n",
            " [16 12 18 18]\n",
            " [18 11 17 28]]\n"
          ]
        },
        {
          "output_type": "execute_result",
          "data": {
            "text/plain": [
              "<Axes: >"
            ]
          },
          "metadata": {},
          "execution_count": 201
        },
        {
          "output_type": "display_data",
          "data": {
            "text/plain": [
              "<Figure size 640x480 with 2 Axes>"
            ],
            "image/png": "[encoded data removed]"
          },
          "metadata": {}
        }
      ]
    },
    {
      "cell_type": "markdown",
      "metadata": {
        "id": "fEIPkY57yGWq"
      },
      "source": [
        "Accuracy"
      ]
    },
    {
      "cell_type": "code",
      "metadata": {
        "colab": {
          "base_uri": "https://localhost:8080/"
        },
        "id": "_MuBwxgLxlk6",
        "outputId": "870e2660-2698-4aaf-8199-643ee9d4867d"
      },
      "source": [
        "# Calcular la precisión del modelo en el conjunto de prueba\n",
        "accuracy = accuracy_score(yTest, yPredicho)\n",
        "print(\"Exactitud (Accuracy):\", accuracy)\n"
      ],
      "execution_count": 202,
      "outputs": [
        {
          "output_type": "stream",
          "name": "stdout",
          "text": [
            "Exactitud (Accuracy): 0.2996389891696751\n"
          ]
        }
      ]
    },
    {
      "cell_type": "markdown",
      "source": [
        "F1_score"
      ],
      "metadata": {
        "id": "5rss9StInBqp"
      }
    },
    {
      "cell_type": "code",
      "source": [
        "# Calcular la puntuación F-measure (ponderada)\n",
        "f1 = f1_score(yTest, modelo.predict(XTest), average='weighted')\n",
        "print(\"Puntaje F1 ponderado:\", f1)\n"
      ],
      "metadata": {
        "colab": {
          "base_uri": "https://localhost:8080/"
        },
        "id": "5Ur5DEPKnJyE",
        "outputId": "b0cabb75-f5cc-4507-be06-a2a3633f0abf"
      },
      "execution_count": 203,
      "outputs": [
        {
          "output_type": "stream",
          "name": "stdout",
          "text": [
            "Puntaje F1 ponderado: 0.29643566792316023\n"
          ]
        }
      ]
    },
    {
      "cell_type": "markdown",
      "source": [
        "AUROC"
      ],
      "metadata": {
        "id": "KBDMcTVK2-pB"
      }
    },
    {
      "cell_type": "code",
      "source": [
        "# Calcular el Área bajo la curva ROC (AUROC)\n",
        "roc_auc = roc_auc_score(yTest, modelo.predict_proba(XTest), multi_class='ovr')\n",
        "print(\"AUROC:\", roc_auc)"
      ],
      "metadata": {
        "colab": {
          "base_uri": "https://localhost:8080/"
        },
        "id": "pkOiwwOM3BOy",
        "outputId": "008988db-f503-424c-c845-683b9b1b88e8"
      },
      "execution_count": 204,
      "outputs": [
        {
          "output_type": "stream",
          "name": "stdout",
          "text": [
            "AUROC: 0.5579642946888275\n"
          ]
        }
      ]
    },
    {
      "cell_type": "markdown",
      "source": [
        "G-Mean"
      ],
      "metadata": {
        "id": "d8KwOu4z6xPK"
      }
    },
    {
      "cell_type": "code",
      "source": [
        "# Calcular la G-mean\n",
        "precision = precision_score(yTest, yPredicho, average='weighted')\n",
        "recall = recall_score(yTest, yPredicho, average='weighted')\n",
        "g_mean = np.sqrt(precision * recall)\n",
        "print(\"G-mean:\", g_mean)"
      ],
      "metadata": {
        "colab": {
          "base_uri": "https://localhost:8080/"
        },
        "id": "wz1B3l4W6yiK",
        "outputId": "bea862c7-65ce-413f-e682-feebb5d94796"
      },
      "execution_count": 205,
      "outputs": [
        {
          "output_type": "stream",
          "name": "stdout",
          "text": [
            "G-mean: 0.29921623390780583\n"
          ]
        }
      ]
    },
    {
      "cell_type": "markdown",
      "source": [
        "Calcular Sensibilidad"
      ],
      "metadata": {
        "id": "PK2LU3RSc58y"
      }
    },
    {
      "cell_type": "code",
      "source": [
        "# Inicializar una lista para almacenar las sensibilidades por clase\n",
        "sensitivities = []\n",
        "\n",
        "# Calcular la sensibilidad para cada clase\n",
        "for i in range(4):\n",
        "    true_positives = matriz[i, i]\n",
        "    actual_positives = sum(matriz[i, :])\n",
        "    sensitivity = true_positives / actual_positives\n",
        "    sensitivities.append(sensitivity)\n",
        "    print(f\"Sensibilidad (clase {i}): {sensitivity}\")\n",
        "\n",
        "# Calcular el promedio de sensibilidades\n",
        "average_sensitivity = sum(sensitivities) / len(sensitivities)\n",
        "print(\"Sensibilidad promedio:\", average_sensitivity)"
      ],
      "metadata": {
        "colab": {
          "base_uri": "https://localhost:8080/"
        },
        "id": "JZxLE4jRcL6k",
        "outputId": "ae26c4e9-9602-4888-9692-6935e089e0b1"
      },
      "execution_count": 206,
      "outputs": [
        {
          "output_type": "stream",
          "name": "stdout",
          "text": [
            "Sensibilidad (clase 0): 0.15151515151515152\n",
            "Sensibilidad (clase 1): 0.3698630136986301\n",
            "Sensibilidad (clase 2): 0.28125\n",
            "Sensibilidad (clase 3): 0.3783783783783784\n",
            "Sensibilidad promedio: 0.29525163589804004\n"
          ]
        }
      ]
    },
    {
      "cell_type": "markdown",
      "source": [
        "Calcular la Especificidad"
      ],
      "metadata": {
        "id": "N3CyzzEM65T5"
      }
    },
    {
      "cell_type": "code",
      "source": [
        "# Inicializar una lista para almacenar las especificidades por clase\n",
        "specificities = []\n",
        "\n",
        "# Calcular la especificidad para cada clase\n",
        "for i in range(4):\n",
        "    true_negatives = sum([matriz[j, j] for j in range(4)]) - matriz[i, i]\n",
        "    actual_negatives = len(yTest) - sum(matriz[i, :])\n",
        "    specificity = true_negatives / actual_negatives\n",
        "    specificities.append(specificity)\n",
        "    print(f\"Especificidad (clase {i}): {specificity}\")\n",
        "\n",
        "# Calcular el promedio de especificidades\n",
        "average_specificity = sum(specificities) / len(specificities)\n",
        "print(\"Especificidad promedio:\", average_specificity)"
      ],
      "metadata": {
        "colab": {
          "base_uri": "https://localhost:8080/"
        },
        "id": "4olxIi8r7DLj",
        "outputId": "24fc5328-b0b9-459b-abb4-e2a585fc52d7"
      },
      "execution_count": 207,
      "outputs": [
        {
          "output_type": "stream",
          "name": "stdout",
          "text": [
            "Especificidad (clase 0): 0.3459715639810427\n",
            "Especificidad (clase 1): 0.27450980392156865\n",
            "Especificidad (clase 2): 0.3051643192488263\n",
            "Especificidad (clase 3): 0.270935960591133\n",
            "Especificidad promedio: 0.29914541193564265\n"
          ]
        }
      ]
    },
    {
      "cell_type": "markdown",
      "source": [
        "Error tipo 1 2"
      ],
      "metadata": {
        "id": "lZ65OHP57Kub"
      }
    },
    {
      "cell_type": "code",
      "source": [
        "# Inicializar listas para almacenar los errores de Tipo 1 y Tipo 2 por clase\n",
        "type1_errors = []\n",
        "type2_errors = []\n",
        "\n",
        "# Calcular los errores de Tipo 1 y Tipo 2 para cada clase\n",
        "for i in range(4):\n",
        "    false_positives = sum(matriz[:, i]) - matriz[i, i]\n",
        "    false_negatives = sum(matriz[i, :]) - matriz[i, i]\n",
        "    type1_error = false_positives / actual_negatives\n",
        "    type2_error = false_negatives / actual_positives\n",
        "    type1_errors.append(type1_error)\n",
        "    type2_errors.append(type2_error)\n",
        "    print(f\"Error de Tipo 1 (clase {i}): {type1_error}\")\n",
        "    print(f\"Error de Tipo 2 (clase {i}): {type2_error}\")\n",
        "\n",
        "# Calcular el promedio de errores de Tipo 1 y Tipo 2\n",
        "average_type1_error = sum(type1_errors) / len(type1_errors)\n",
        "average_type2_error = sum(type2_errors) / len(type2_errors)\n",
        "print(\"Error de Tipo 1 promedio:\", average_type1_error)\n",
        "print(\"Error de Tipo 2 promedio:\", average_type2_error)"
      ],
      "metadata": {
        "colab": {
          "base_uri": "https://localhost:8080/"
        },
        "id": "h7N9QmDt7MPr",
        "outputId": "1d64f9dd-9271-4f96-86fc-2542398edfac"
      },
      "execution_count": 208,
      "outputs": [
        {
          "output_type": "stream",
          "name": "stdout",
          "text": [
            "Error de Tipo 1 (clase 0): 0.1921182266009852\n",
            "Error de Tipo 2 (clase 0): 0.7567567567567568\n",
            "Error de Tipo 1 (clase 1): 0.18226600985221675\n",
            "Error de Tipo 2 (clase 1): 0.6216216216216216\n",
            "Error de Tipo 1 (clase 2): 0.2561576354679803\n",
            "Error de Tipo 2 (clase 2): 0.6216216216216216\n",
            "Error de Tipo 1 (clase 3): 0.3251231527093596\n",
            "Error de Tipo 2 (clase 3): 0.6216216216216216\n",
            "Error de Tipo 1 promedio: 0.23891625615763545\n",
            "Error de Tipo 2 promedio: 0.6554054054054054\n"
          ]
        }
      ]
    },
    {
      "cell_type": "code",
      "source": [
        "precision_recall_fscore_support(yTest,yPredicho,average=None)\n",
        "etiquetas=[\"fibrosis portal\",\"pocos septos\", \"muchos septos\", \"cirrosis \"]\n",
        "print(classification_report(yTest,yPredicho,target_names=etiquetas))"
      ],
      "metadata": {
        "colab": {
          "base_uri": "https://localhost:8080/"
        },
        "id": "wNCdfWqQhpNc",
        "outputId": "f04fa96b-cba5-4ab7-9e4e-163311cf9573"
      },
      "execution_count": 209,
      "outputs": [
        {
          "output_type": "stream",
          "name": "stdout",
          "text": [
            "                 precision    recall  f1-score   support\n",
            "\n",
            "fibrosis portal       0.20      0.15      0.17        66\n",
            "   pocos septos       0.42      0.37      0.39        73\n",
            "  muchos septos       0.26      0.28      0.27        64\n",
            "      cirrosis        0.30      0.38      0.33        74\n",
            "\n",
            "       accuracy                           0.30       277\n",
            "      macro avg       0.30      0.30      0.29       277\n",
            "   weighted avg       0.30      0.30      0.30       277\n",
            "\n"
          ]
        }
      ]
    }
  ]
}